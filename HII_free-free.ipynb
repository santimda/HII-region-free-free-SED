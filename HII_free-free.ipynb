{
 "cells": [
  {
   "cell_type": "code",
   "execution_count": 1,
   "id": "0ac8514e",
   "metadata": {},
   "outputs": [],
   "source": [
    "import pandas as pd\n",
    "import numpy as np\n",
    "import matplotlib as mpl\n",
    "import matplotlib.pyplot as plt\n",
    "from matplotlib.ticker import (MultipleLocator, FormatStrFormatter, AutoMinorLocator)\n",
    "from uncertainties import ufloat\n",
    "from uncertainties.umath import * \n",
    "from scipy.optimize import curve_fit\n",
    "from scipy.integrate import trapz"
   ]
  },
  {
   "cell_type": "code",
   "execution_count": 2,
   "id": "f6303868",
   "metadata": {},
   "outputs": [],
   "source": [
    "def S_ff(nu, R, D, Te, n):\n",
    "    '''Free-free spectrum from an homogeneous spherical region. It assumes n_i = n_e = n.\n",
    "    Formulae in Olnon 1975 ( https://articles.adsabs.harvard.edu/pdf/1975A%26A....39..217O )\n",
    "    \n",
    "    Input:\n",
    "    nu = frequency in Hz\n",
    "    R = source size in cm\n",
    "    D = source distance in cm\n",
    "    Te = electron temperature in Kelvin\n",
    "    n = gas density in cm^-3\n",
    "    \n",
    "    output:\n",
    "    S_nu = flux density in Jy\n",
    "    '''\n",
    "    \n",
    "    h = 6.6260755e-27\n",
    "    c = 2.99792458e10\n",
    "    k = 1.380658e-16\n",
    "    pc = 3.08567758e18\n",
    "    Jy = 1e23\n",
    "    \n",
    "    #Transform units\n",
    "    nu_GHz = nu / 1e9 # Note that this is usually a vector of size m! \n",
    "    \n",
    "    m = len(nu)\n",
    "    \n",
    "    fs = 8.235e-2 * T_e**(-1.35) * nu_GHz**(-2.1) / pc # Eq.4 is in [cm^6 pc^-1]\n",
    "    cte_Snu = 2 * np.pi * k * T_e * R**2 / (c**2 * D**2) # First part in Eq. 11\n",
    "    ps = [2 * n**2 * R * f for f in fs] # Eq. 10\n",
    "    Snu = []\n",
    "    for i in range(m):\n",
    "        if ps[i] > 1e-3:\n",
    "            opac = 1. - (2./ps[i]**2) * ( 1 - (ps[i]+1) * np.exp(-ps[i]) )\n",
    "        else:\n",
    "            opac = (2/3) * ps[i] # asymptotic limit for p << 1\n",
    "        #Snu[i] = cte_Snu * nu[i]**2 * opac * 1e23 \n",
    "        S = cte_Snu * nu[i]**2 * opac * Jy # Eq. 11 Olnon 1975 for sphere (in Jy)\n",
    "        Snu.append(S)\n",
    "    \n",
    "    return Snu # in Jy\n",
    "\n",
    "\n",
    "\n",
    "def S_ff_approx(nu, R, D, Te, n):\n",
    "    '''Free-free spectrum from an homogeneous spherical region. It assumes n_i = n_e = n.\n",
    "    Original formulae from Mezger & Henderson 1967, but I use (for now) the ones in \n",
    "    Tej+ 2006 ( https://www.aanda.org/articles/aa/pdf/2006/22/aa4687-05.pdf )\n",
    "    \n",
    "    Input:\n",
    "    nu = frequency in Hz\n",
    "    R = source size in cm\n",
    "    D = source distance in cm\n",
    "    Te = electron temperature in Kelvin\n",
    "    n = gas density in cm^-3\n",
    "    \n",
    "    output:\n",
    "    S_nu = flux density in Jy\n",
    "    '''\n",
    "    \n",
    "    h = 6.6260755e-27\n",
    "    c = 2.99792458e10\n",
    "    k = 1.380658e-16\n",
    "    pc = 3.08567758e18\n",
    "    \n",
    "    nu_MHz = nu / 1e6 # Note that this is usually a vector of size m! \n",
    "\n",
    "    theta = R / D\n",
    "    #Omega = 1.133 * theta**2 # Tej+ 2006, after Eq. 4\n",
    "    Omega = np.pi * theta**2 # Tej+ 2006, after Eq. 4\n",
    "    EM = 2*R * n**2  # = integral n^2 * dl = n^2 * L, L = 2R\n",
    "    \n",
    "    m = len(nu)\n",
    "    \n",
    "    cte_Snu = 3.07e-2 * T_e * Omega # Constant part in Eq. 3\n",
    "    a = 0.99   # Tej+ 2006, after Eq. 4\n",
    "    tau = 1.643e5 * a * EM * T_e**(-1.35) * nu_MHz**(-2.1) / pc # Eq.4 is in [cm^6 pc^-1]\n",
    "    opac = 1. - np.exp(-tau)\n",
    "    Snu = cte_Snu * nu_MHz**2 * opac \n",
    "    \n",
    "    return Snu # in Jy"
   ]
  },
  {
   "cell_type": "code",
   "execution_count": 3,
   "id": "f41fa84e",
   "metadata": {},
   "outputs": [],
   "source": [
    "# Esthetics for plots\n",
    "nice_fonts = {\n",
    "        # Use LaTeX to write all text\n",
    "        \"text.usetex\": True,\n",
    "        \"font.family\": 'serif',\n",
    "        # Use 10pt font in plots, to match 10pt font in document\n",
    "        \"axes.labelsize\": 18,\n",
    "        \"font.size\": 18,\n",
    "        \"axes.linewidth\":1,\n",
    "        \"axes.titlesize\":16,\n",
    "        # Make the legend/label fonts a little smaller\n",
    "        \"legend.fontsize\": 14,\n",
    "        \"xtick.labelsize\": 16,\n",
    "        \"ytick.labelsize\": 16,\n",
    "        \"ytick.major.size\": 5,     # major tick size in points\n",
    "        \"ytick.minor.size\": 3,       # minor tick size in points\n",
    "        \"xtick.major.size\": 7,     # major tick size in points\n",
    "        \"xtick.minor.size\": 3,       # minor tick size in points\n",
    "        \"xtick.major.width\": 1.4,     # major tick width in points\n",
    "        \"xtick.minor.width\": 1.4,     # minor tick width in points\n",
    "}\n",
    "mpl.rcParams.update(nice_fonts)"
   ]
  },
  {
   "cell_type": "code",
   "execution_count": 4,
   "id": "cc282815",
   "metadata": {},
   "outputs": [
    {
     "data": {
      "text/plain": [
       "[]"
      ]
     },
     "execution_count": 4,
     "metadata": {},
     "output_type": "execute_result"
    },
    {
     "data": {
      "image/png": "[encoded data removed]",
      "text/plain": [
       "<Figure size 432x288 with 1 Axes>"
      ]
     },
     "metadata": {
      "needs_background": "light"
     },
     "output_type": "display_data"
    }
   ],
   "source": [
    "# Simple check of the S_ff function:\n",
    "R_s = 1e17\n",
    "D = 1e21\n",
    "T_e = 1e4\n",
    "n = 1e3\n",
    "nu = np.geomspace( 1e7, 1e10, 100)\n",
    "S = S_ff(nu, R_s, D, T_e, n)\n",
    "S_2 = S_ff_approx(nu, R_s, D, T_e, n)\n",
    "\n",
    "# Plot data and fit\n",
    "fig, ax = plt.subplots(1)\n",
    "plt.gca().set_xlabel(r'$\\nu$ [Hz]')\n",
    "plt.gca().set_ylabel(r'$S_\\nu$ [Jy]')\n",
    "plt.plot(nu, S, label = 'HII f-f')\n",
    "plt.plot(nu, S_2, label = 'approx')\n",
    "plt.title('')\n",
    "plt.xlim(nu[0], nu[-1])\n",
    "plt.ylim(min(S), 2.0*max(S))\n",
    "\n",
    "plt.legend(loc='best')\n",
    "ax.loglog()"
   ]
  },
  {
   "cell_type": "code",
   "execution_count": 5,
   "id": "d10cfbc7",
   "metadata": {},
   "outputs": [],
   "source": [
    "# Constants in cgs units \n",
    "pc = 3.08567758e18 \n",
    "kpc = 1e3 * pc \n",
    "AU = 1.496e13"
   ]
  },
  {
   "cell_type": "markdown",
   "id": "3a158050",
   "metadata": {},
   "source": [
    "## Model for a random system"
   ]
  },
  {
   "cell_type": "code",
   "execution_count": 6,
   "id": "4ef8f3af",
   "metadata": {},
   "outputs": [],
   "source": [
    "# System parameters\n",
    "D = 2.0 * kpc\n",
    "T_e = 1e4\n",
    "theta_s = 30.0 #arcsec\n",
    "R_s = theta_s * (D/pc) * AU  # R_s[AU] = theta_s[arcsec] * D[pc]\n",
    "\n",
    "# Observations to fit\n",
    "nu = np.array( [325e6, 735e6, 1260e6, 4.8e9, 8.4e9] ) # in Hz\n",
    "S = np.array( [1.6, 3.3, 4.0, 3.9, 3.5] )      # in Jy\n",
    "S_err = np.array( [0.1*flux for flux in S] ) # assume a 10% calibration error\n"
   ]
  },
  {
   "cell_type": "code",
   "execution_count": 7,
   "id": "5478ff51",
   "metadata": {},
   "outputs": [
    {
     "name": "stdout",
     "output_type": "stream",
     "text": [
      "Density: n = 1281+/-15\n"
     ]
    }
   ],
   "source": [
    "# Model fitting\n",
    "\n",
    "# Define seed values for the fit\n",
    "seed = np.array([2]) # log(n)\n",
    "bs = ((1), (5)) # ( min values, max values ) = ( (min_n, ...), (max_n, ...) )\n",
    "\n",
    "# Fit function S_ff(nu, R, D, Te, n) to the data  \n",
    "popt, pcov = curve_fit( lambda x, logn: S_ff(x,R_s,D,T_e,10**logn), xdata=nu, ydata=S, p0=seed, sigma=S_err, bounds=bs, absolute_sigma=True)\n",
    "perr = np.sqrt(np.diag(pcov))\n",
    "    \n",
    "n = ufloat(10**popt[0], 10**popt[0] * perr[0]) # I fit log(n), so the error delta(logn) = (delta n)/n\n",
    "\n",
    "print(f'Density: {n = :.2u}')\n",
    "\n",
    "# prepare confidence level curves\n",
    "nstd = 1.0 # to draw 1-sigma intervals\n",
    "popt_up = popt + nstd * perr\n",
    "popt_dw = popt - nstd * perr\n",
    "\n",
    "nu_fit = np.geomspace( min(nu)/1.5, max(nu)*5., 100)\n",
    "fit = S_ff(nu_fit, R_s,D,T_e, n.nominal_value)\n",
    "fit_up = S_ff(nu_fit, R_s,D,T_e, 10**popt_up[0])\n",
    "fit_dw = S_ff(nu_fit, R_s,D,T_e, 10**popt_dw[0])\n"
   ]
  },
  {
   "cell_type": "code",
   "execution_count": 8,
   "id": "6b27affe",
   "metadata": {},
   "outputs": [
    {
     "data": {
      "image/png": "[encoded data removed]",
      "text/plain": [
       "<Figure size 432x288 with 1 Axes>"
      ]
     },
     "metadata": {
      "needs_background": "light"
     },
     "output_type": "display_data"
    }
   ],
   "source": [
    "# Plot data and fit\n",
    "\n",
    "fig, ax = plt.subplots(1)\n",
    "plt.gca().set_xlabel(r'$\\nu$ [Hz]')\n",
    "plt.gca().set_ylabel(r'$S_\\nu$ [Jy]')\n",
    "plt.errorbar(nu, S, yerr=S_err, ecolor='k', alpha=0.8, fmt='none')\n",
    "plt.plot(nu, S, 'ko', alpha=0.8, label = 'data')\n",
    "plt.plot(nu_fit, fit, 'r-', label='fit')\n",
    "ax.fill_between(nu_fit, fit_up, fit_dw, alpha=.2, label='', color='r')\n",
    "plt.title('')\n",
    "plt.xlim(nu_fit[0], nu_fit[-1])\n",
    "plt.ylim(min(fit), 1.5*max(fit))\n",
    "\n",
    "plt.legend(loc='best')\n",
    "ax.loglog()\n",
    "ax.annotate(r'$n =$' + str(round(abs(n.nominal_value),1)) + '$\\pm$' + str(round(n.std_dev,1)),\n",
    "            xy=(0.35, 0.25), xycoords='axes fraction',\n",
    "            xytext=(20, 20), textcoords='offset pixels',\n",
    "            horizontalalignment='left',\n",
    "            verticalalignment='bottom')\n",
    "\n",
    "plt.show()"
   ]
  },
  {
   "cell_type": "code",
   "execution_count": null,
   "id": "f533f827",
   "metadata": {},
   "outputs": [],
   "source": []
  },
  {
   "cell_type": "code",
   "execution_count": null,
   "id": "57ac5ee9",
   "metadata": {},
   "outputs": [],
   "source": []
  }
 ],
 "metadata": {
  "kernelspec": {
   "display_name": "Python 3 (ipykernel)",
   "language": "python",
   "name": "python3"
  },
  "language_info": {
   "codemirror_mode": {
    "name": "ipython",
    "version": 3
   },
   "file_extension": ".py",
   "mimetype": "text/x-python",
   "name": "python",
   "nbconvert_exporter": "python",
   "pygments_lexer": "ipython3",
   "version": "3.9.7"
  }
 },
 "nbformat": 4,
 "nbformat_minor": 5
}
